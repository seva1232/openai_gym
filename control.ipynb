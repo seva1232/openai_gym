{
 "cells": [
  {
   "attachments": {
    "image.png": {
     "image/png": "[encoded data removed]"
    }
   },
   "cell_type": "markdown",
   "metadata": {},
   "source": [
    "Здесь представлено два различных агента, пытающихся удержаться 200 тиков в окружении CartPole.\n",
    "\n",
    "Первый агент играет случайным образом, потом, как у него накопится достаточное количество успешных игр, запускается тренировка нейронной сети, которая пытается выучить действия, которые были совершены в этих самых удачных играх. Потом процесс запускается заново и так далее. Скорость работы такого варинта, правда, невысока.\n",
    "\n",
    "Второй вариант использует нак называемые Q-values. Для этого инициализируется таблица значений, которые сопоставляются каждой паре положение-дейсствие. По мере работы агента эти значения обновляются, основываясь на действиях агента и получаемой награде по следующей формуле.\n",
    "\n",
    "\n",
    "![image.png](attachment:image.png)\n",
    "\n",
    "После этого для каждой новой позиции выбирается действие, в котором Q-value максимально.\n",
    "\n",
    "    s_t -- положение системы\n",
    "    a_t -- выбранное действие в s_t\n",
    "    \\alpha -- скорость обучения, то есть то, насколько сильно обновляется каждый раз значение \n",
    "    r_t -- награда за действие a_t\n",
    "    \\gamma -- то, насколько ценится будующая аграда по сравнению с наградой нынешней\n",
    "    \\epsilon -- \"Exploration rate\". То, с какой вероятностью агент совершает случайное действие, чтобы иметь возможность выйти из локального экстремума."
   ]
  },
  {
   "cell_type": "code",
   "execution_count": 167,
   "metadata": {
    "ExecuteTime": {
     "end_time": "2020-01-13T06:53:16.453718Z",
     "start_time": "2020-01-13T06:53:16.448731Z"
    }
   },
   "outputs": [],
   "source": [
    "import random\n",
    "import gym\n",
    "import math\n",
    "import numpy as np\n",
    "from collections import deque\n",
    "from keras.models import Sequential\n",
    "from keras.layers import Dense\n",
    "from keras.optimizers import Adam"
   ]
  },
  {
   "cell_type": "code",
   "execution_count": 169,
   "metadata": {
    "ExecuteTime": {
     "end_time": "2020-01-13T07:09:24.416099Z",
     "start_time": "2020-01-13T07:09:24.320133Z"
    },
    "code_folding": []
   },
   "outputs": [],
   "source": [
    "class CartPole():\n",
    "    def __init__(self, name = 'CartPole-v0', episodes = 300, monitor = False, epsilon = .1, goal_ticks = 500, passing_pretrain = 150, train_period = 5000):\n",
    "        self.env = gym.make(name)\n",
    "        if monitor: \n",
    "            self.env = gym.wrappers.Monitor(self.env, '../data/cartpole-1', force=True)\n",
    "        self.epsilon = epsilon\n",
    "        self.episodes = episodes\n",
    "        self.monitor = monitor\n",
    "        self.memory = []\n",
    "        self.goal_ticks = goal_ticks\n",
    "        self.passing_pretrain = passing_pretrain\n",
    "        self.train_period = train_period\n",
    "        self.model = None\n",
    "        \n",
    "        \n",
    "    def model_create(self, input_size):\n",
    "        \n",
    "        self.model = Sequential()\n",
    "        self.model.add(Dense(32, input_shape = input_size,  activation='relu'))\n",
    "        self.model.add(Dense(64, activation = 'relu'))\n",
    "        self.model.add(Dense(128, activation = 'relu'))\n",
    "        self.model.add(Dense(256, activation = 'relu'))\n",
    "        self.model.add(Dense(512, activation = 'relu'))\n",
    "        self.model.add(Dense(2, activation = 'softmax'))\n",
    "        self.model.compile(loss='mse', optimizer=Adam())\n",
    "          \n",
    "    def choose_action(self, state, initial = True):\n",
    "        if self.model is None:\n",
    "            return ((np.sign((state.sum())) + 1) // 2).astype('int')\n",
    "        else:\n",
    "            return np.argmax(self.model.predict(np.array(state)[np.newaxis, ...]))\n",
    "\n",
    "    def preprocess_state(self, state):\n",
    "        return np.reshape(np.array(state), [1, 4])\n",
    "    \n",
    "    def train(self):\n",
    "        X_train = [i[0] for i in self.memory]\n",
    "        y_train = [i[1] for i in self.memory]\n",
    "        \n",
    "        if self.model is None:\n",
    "            self.model_create([len(X_train[0])])\n",
    "        \n",
    "        X_train = np.vstack(X_train)\n",
    "        self.model.fit(X_train, np.array(y_train), epochs = 3, verbose=100)\n",
    "        self.passing_pretrain = int(self.passing_pretrain + 10)\n",
    "        self.memory.clear()\n",
    "        print('new_epoch')\n",
    "    \n",
    "    \n",
    "    def play(self):\n",
    "        rewards = []\n",
    "        for episode in range(self.episodes):\n",
    "            state = self.preprocess_state(self.env.reset())     \n",
    "            state = state[0]\n",
    "            scores = []\n",
    "            over = False\n",
    "            ticks = 0\n",
    "            game_memory = []\n",
    "            game_reward = 0\n",
    "            while not over:\n",
    "                if self.monitor:\n",
    "                    self.env.render()\n",
    "                action = self.choose_action(state, )\n",
    "                next_state, reward, over, _ = self.env.step(action)\n",
    "                if action == 0:\n",
    "                    action = [1, 0]\n",
    "                elif action == 1:\n",
    "                    action = [0, 1]\n",
    "                game_memory.append([state, action])\n",
    "                state = next_state\n",
    "                ticks += 1\n",
    "                game_reward += reward\n",
    "                \n",
    "            if game_reward >= self.passing_pretrain:\n",
    "                self.memory.extend(game_memory)\n",
    "            rewards.append(game_reward)\n",
    "                \n",
    "            if len(self.memory) >= self.train_period:\n",
    "                print(np.mean(rewards))\n",
    "                if np.mean(rewards) >= 180:\n",
    "                    self.monitor = True\n",
    "                rewards.clear()\n",
    "                self.train()\n",
    "            \n",
    "            scores.append(ticks)            \n",
    "            if np.mean(ticks) >= 500:\n",
    "                print('Hooray')\n",
    "                \n",
    "            else: \n",
    "                pass\n",
    "        self.env.close()\n",
    "                \n"
   ]
  },
  {
   "cell_type": "code",
   "execution_count": 170,
   "metadata": {
    "ExecuteTime": {
     "end_time": "2020-01-13T07:11:30.879814Z",
     "start_time": "2020-01-13T07:09:24.894085Z"
    }
   },
   "outputs": [
    {
     "name": "stdout",
     "output_type": "stream",
     "text": [
      "136.86046511627907\n",
      "Epoch 1/3\n",
      "Epoch 2/3\n",
      "Epoch 3/3\n",
      "new_epoch\n",
      "137.50359712230215\n",
      "Epoch 1/3\n",
      "Epoch 2/3\n",
      "Epoch 3/3\n",
      "new_epoch\n"
     ]
    }
   ],
   "source": [
    "cp = CartPole(monitor=False)\n",
    "cp.play()"
   ]
  },
  {
   "cell_type": "code",
   "execution_count": 207,
   "metadata": {
    "ExecuteTime": {
     "end_time": "2020-01-13T07:21:19.065445Z",
     "start_time": "2020-01-13T07:21:19.046493Z"
    }
   },
   "outputs": [],
   "source": [
    "from collections import deque\n",
    "\n",
    "\n",
    "class QPoleSolver():\n",
    "    def __init__(self, n_episodes=3000, monitor = False):\n",
    "        self.n_episodes = n_episodes\n",
    "        self.monitor = monitor\n",
    "        self.gamma = 1\n",
    "        self.buckets = (1, 1, 6, 12)\n",
    "        self.goal = 196\n",
    "        \n",
    "        self.env = gym.make('CartPole-v0')\n",
    "        self.Q_table = np.zeros(self.buckets + (self.env.action_space.n,))\n",
    "        \n",
    "    \n",
    "    def discretize(self, obs):\n",
    "        upper_bounds = [self.env.observation_space.high[0], 0.5, self.env.observation_space.high[2], math.radians(5)]\n",
    "        lower_bounds = [self.env.observation_space.low[0], -0.5, self.env.observation_space.low[2], -math.radians(5)]\n",
    "        ratios = [(obs[i] + abs(lower_bounds[i])) / (upper_bounds[i] - lower_bounds[i]) for i in range(len(obs))]\n",
    "        new_obs = [int(round((self.buckets[i] - 1) * ratios[i])) for i in range(len(obs))]\n",
    "        new_obs = [min(self.buckets[i] - 1, max(0, new_obs[i])) for i in range(len(obs))]\n",
    "        return tuple(new_obs)\n",
    "    \n",
    "    def get_epsilon(self, e):\n",
    "        return max(0.0, np.exp(-e / 400))\n",
    "\n",
    "    def get_alpha(self, e):\n",
    "        return max(0.0, np.exp(-e / 400))\n",
    "    \n",
    "    def choose_action(self, state, epsilon):\n",
    "        return self.env.action_space.sample() if (np.random.random() <= epsilon) else np.argmax(self.Q_table[state])\n",
    "    \n",
    "    def update_q(self, state_old, action, reward, new_state, alpha):\n",
    "        self.Q_table[state_old][action] += alpha * (reward + self.gamma * np.max(self.Q_table[new_state])\n",
    "                                                        - self.Q_table[state_old][action])\n",
    "\n",
    "    def run(self):\n",
    "        scores = deque(maxlen=100)\n",
    "        for e in range(self.n_episodes):\n",
    "            current_state = self.discretize(self.env.reset())\n",
    "            alpha = self.get_alpha(e)\n",
    "            epsilon = self.get_epsilon(e)\n",
    "            done = False\n",
    "            i = 0\n",
    "\n",
    "            while not done:\n",
    "                action = self.choose_action(current_state, epsilon)\n",
    "                observation, reward, done, _ = self.env.step(action)\n",
    "                new_state = self.discretize(observation)\n",
    "                self.update_q(current_state, action, reward, new_state, alpha)\n",
    "                current_state = new_state\n",
    "                i += 1\n",
    "\n",
    "            scores.append(i)\n",
    "            mean_score = np.mean(scores)\n",
    "            if mean_score >= self.goal and e >= 100:\n",
    "                print('Solved after {} episodes'.format(e, e - 100))\n",
    "                return e - 100\n",
    "            if e % 100 == 0:\n",
    "                \n",
    "                print('{}  -- {} ticks.'.format(e, mean_score))\n",
    "\n",
    "        print('failed'.format(e))\n",
    "        return e"
   ]
  },
  {
   "cell_type": "code",
   "execution_count": 208,
   "metadata": {
    "ExecuteTime": {
     "end_time": "2020-01-13T07:21:23.692135Z",
     "start_time": "2020-01-13T07:21:19.405193Z"
    }
   },
   "outputs": [
    {
     "name": "stdout",
     "output_type": "stream",
     "text": [
      "0  -- 16.0 ticks.\n",
      "100  -- 22.61 ticks.\n",
      "200  -- 22.62 ticks.\n",
      "300  -- 32.39 ticks.\n",
      "400  -- 40.22 ticks.\n",
      "500  -- 44.79 ticks.\n",
      "600  -- 60.11 ticks.\n",
      "700  -- 84.71 ticks.\n",
      "800  -- 97.54 ticks.\n",
      "900  -- 129.22 ticks.\n",
      "1000  -- 143.74 ticks.\n",
      "1100  -- 166.95 ticks.\n",
      "1200  -- 170.06 ticks.\n",
      "Solved after 1216 trials\n"
     ]
    },
    {
     "data": {
      "text/plain": [
       "1116"
      ]
     },
     "execution_count": 208,
     "metadata": {},
     "output_type": "execute_result"
    }
   ],
   "source": [
    "QPoleSolver().run()"
   ]
  },
  {
   "cell_type": "code",
   "execution_count": null,
   "metadata": {
    "ExecuteTime": {
     "end_time": "2020-01-13T00:45:10.990168Z",
     "start_time": "2020-01-13T00:45:10.984184Z"
    }
   },
   "outputs": [],
   "source": []
  },
  {
   "cell_type": "code",
   "execution_count": null,
   "metadata": {},
   "outputs": [],
   "source": []
  },
  {
   "cell_type": "code",
   "execution_count": null,
   "metadata": {},
   "outputs": [],
   "source": []
  }
 ],
 "metadata": {
  "kernelspec": {
   "display_name": "Python 3",
   "language": "python",
   "name": "python3"
  },
  "language_info": {
   "codemirror_mode": {
    "name": "ipython",
    "version": 3
   },
   "file_extension": ".py",
   "mimetype": "text/x-python",
   "name": "python",
   "nbconvert_exporter": "python",
   "pygments_lexer": "ipython3",
   "version": "3.7.4"
  }
 },
 "nbformat": 4,
 "nbformat_minor": 2
}
